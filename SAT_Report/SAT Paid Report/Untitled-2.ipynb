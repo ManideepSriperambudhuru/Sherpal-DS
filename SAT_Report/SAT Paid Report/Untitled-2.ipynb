{
 "cells": [
  {
   "cell_type": "code",
   "execution_count": 1,
   "id": "3df8e1f7",
   "metadata": {},
   "outputs": [],
   "source": [
    "input_file = r\"C:\\Users\\Manideep S\\Downloads\\L@\\SAT Paid Report\\Users_data\\Test\\Input_data.json\""
   ]
  },
  {
   "cell_type": "code",
   "execution_count": 2,
   "id": "35c44bf6",
   "metadata": {},
   "outputs": [],
   "source": [
    "import json"
   ]
  },
  {
   "cell_type": "code",
   "execution_count": 16,
   "id": "fc3f0160",
   "metadata": {},
   "outputs": [],
   "source": [
    "with open(input_file, \"r\", encoding=\"utf-8\") as f:\n",
    "        data = json.load(f)\n",
    " \n",
    "student = data[\"user\"]\n",
    "persona = data[\"persona\"]\n",
    "report = data[\"sat_readiness_report\"]"
   ]
  },
  {
   "cell_type": "code",
   "execution_count": 17,
   "id": "420c9546",
   "metadata": {},
   "outputs": [],
   "source": [
    "rw_subject_focusarea_skills = report[\"subjects\"][0][\"focus_area\"][\"skills\"]\n",
    "\n",
    " "
   ]
  },
  {
   "cell_type": "code",
   "execution_count": 27,
   "id": "ff354584",
   "metadata": {},
   "outputs": [
    {
     "name": "stdout",
     "output_type": "stream",
     "text": [
      "[{'priority_index': 0.44062500000000004, 'name': 'Rhetorical Synthesis', 'question_weight': 10.9, 'educational_resources': ['https://www.khanacademy.org/test-prep/sat-reading-and-writing/x0d47bcec73eb6c4b:foundations-expression-of-ideas-and-standard-english-conventions/x0d47bcec73eb6c4b:rhetorical-synthesis/a/rhetorical-synthesis-lesson'], 'priority': '09'}, {'priority_index': 0.03149999999999999, 'name': 'Cross-text Connections', 'question_weight': 2.31, 'educational_resources': ['https://www.khanacademy.org/test-prep/sat-reading-and-writing/x0d47bcec73eb6c4b:foundations-craft-and-structure/x0d47bcec73eb6c4b:cross-text-connections/a/cross-text-connections-lesson'], 'priority': '10'}, {'priority_index': 0.0, 'name': 'Command of Evidence - Quantitative', 'question_weight': 4.41, 'educational_resources': ['https://www.khanacademy.org/test-prep/sat-reading-and-writing/x0d47bcec73eb6c4b:foundations-information-and-ideas/x0d47bcec73eb6c4b:command-of-evidence-quantitative/a/command-of-evidence-quantitative-lesson'], 'priority': '11'}]\n"
     ]
    }
   ],
   "source": [
    "skill = []\n",
    "for each_skill in rw_subject_focusarea_skills:\n",
    "    skill.append({each_skill[\"name\"]: each_skill[\"priority\"]})\n",
    "\n",
    "sorted_skills = sorted(rw_subject_focusarea_skills, key=lambda x: int(x['priority']))\n",
    "sorted_skills = sorted_skills[-3:]\n",
    "print(sorted_skills)"
   ]
  },
  {
   "cell_type": "code",
   "execution_count": null,
   "id": "a2243ee1",
   "metadata": {},
   "outputs": [],
   "source": [
    "skill = []\n",
    "    for each_skill in subject_focusarea_skills:\n",
    "        skill.append({each_skill[\"name\"]: each_skill[\"priority\"]})\n",
    "\n",
    "    sorted_skills = sorted(subject_focusarea_skills, key=lambda x: int(x['priority']))\n",
    "    return {\n",
    "        sorted_skills[:3],  # top three\n",
    "        sorted_skills[-3:]  # bottom three\n",
    "    }"
   ]
  },
  {
   "cell_type": "code",
   "execution_count": 20,
   "id": "13d99083",
   "metadata": {
    "vscode": {
     "languageId": "ruby"
    }
   },
   "outputs": [
    {
     "name": "stdout",
     "output_type": "stream",
     "text": [
      "Top three skills: [{'priority_index': 4.002723214285714, 'name': 'Words in Context', 'question_weight': 17.16, 'educational_resources': ['https://www.khanacademy.org/test-prep/sat-reading-and-writing/x0d47bcec73eb6c4b:foundations-craft-and-structure/x0d47bcec73eb6c4b:words-in-context/a/words-in-context-lesson'], 'priority': '01'}, {'priority_index': 3.184, 'name': 'Transitions', 'question_weight': 9.59, 'educational_resources': ['https://www.khanacademy.org/test-prep/sat-reading-and-writing/x0d47bcec73eb6c4b:foundations-expression-of-ideas-and-standard-english-conventions/x0d47bcec73eb6c4b:transitions/a/transitions-lesson'], 'priority': '02'}, {'priority_index': 2.42625, 'name': 'Form, Structure, and Sense', 'question_weight': 12.09, 'educational_resources': ['https://www.khanacademy.org/test-prep/sat-reading-and-writing/x0d47bcec73eb6c4b:foundations-expression-of-ideas-and-standard-english-conventions/x0d47bcec73eb6c4b:form-structure-and-sense/a/form-structure-and-sense-overview'], 'priority': '03'}]\n",
      "Bottom three skills: [{'priority_index': 0.44062500000000004, 'name': 'Rhetorical Synthesis', 'question_weight': 10.9, 'educational_resources': ['https://www.khanacademy.org/test-prep/sat-reading-and-writing/x0d47bcec73eb6c4b:foundations-expression-of-ideas-and-standard-english-conventions/x0d47bcec73eb6c4b:rhetorical-synthesis/a/rhetorical-synthesis-lesson'], 'priority': '09'}, {'priority_index': 0.03149999999999999, 'name': 'Cross-text Connections', 'question_weight': 2.31, 'educational_resources': ['https://www.khanacademy.org/test-prep/sat-reading-and-writing/x0d47bcec73eb6c4b:foundations-craft-and-structure/x0d47bcec73eb6c4b:cross-text-connections/a/cross-text-connections-lesson'], 'priority': '10'}, {'priority_index': 0.0, 'name': 'Command of Evidence - Quantitative', 'question_weight': 4.41, 'educational_resources': ['https://www.khanacademy.org/test-prep/sat-reading-and-writing/x0d47bcec73eb6c4b:foundations-information-and-ideas/x0d47bcec73eb6c4b:command-of-evidence-quantitative/a/command-of-evidence-quantitative-lesson'], 'priority': '11'}]\n"
     ]
    }
   ],
   "source": [
    "# Sort the skills by their 'priority' value and get the top three and bottom three\n",
    "sorted_skills = sorted(rw_subject_focusarea_skills, key=lambda x: int(x['priority']))\n",
    "top_three_skills = sorted_skills[:3]\n",
    "bottom_three_skills = sorted_skills[-3:]\n",
    "\n",
    "top_three_skills_names = [skill['name'] for skill in top_three_skills]\n",
    "bottom_three_skills_names = [skill['name'] for skill in bottom_three_skills]\n",
    "\n",
    "print(\"Top three skills:\", top_three_skills)\n",
    "print(\"Bottom three skills:\", bottom_three_skills)"
   ]
  },
  {
   "cell_type": "code",
   "execution_count": 24,
   "id": "e9489b91",
   "metadata": {
    "vscode": {
     "languageId": "ruby"
    }
   },
   "outputs": [
    {
     "name": "stdout",
     "output_type": "stream",
     "text": [
      "[{'Rhetorical Synthesis': ['https://www.khanacademy.org/test-prep/sat-reading-and-writing/x0d47bcec73eb6c4b:foundations-expression-of-ideas-and-standard-english-conventions/x0d47bcec73eb6c4b:rhetorical-synthesis/a/rhetorical-synthesis-lesson']}, {'Cross-text Connections': ['https://www.khanacademy.org/test-prep/sat-reading-and-writing/x0d47bcec73eb6c4b:foundations-craft-and-structure/x0d47bcec73eb6c4b:cross-text-connections/a/cross-text-connections-lesson']}, {'Command of Evidence - Quantitative': ['https://www.khanacademy.org/test-prep/sat-reading-and-writing/x0d47bcec73eb6c4b:foundations-information-and-ideas/x0d47bcec73eb6c4b:command-of-evidence-quantitative/a/command-of-evidence-quantitative-lesson']}]\n"
     ]
    }
   ],
   "source": [
    "rw_bottom_three_resources = []\n",
    "for each_skill in bottom_three_skills:\n",
    "    rw_bottom_three_resources.append({each_skill[\"name\"]: each_skill[\"educational_resources\"]})\n",
    "print(rw_bottom_three_resources)"
   ]
  },
  {
   "cell_type": "code",
   "execution_count": 29,
   "id": "1c159d29",
   "metadata": {
    "vscode": {
     "languageId": "ruby"
    }
   },
   "outputs": [
    {
     "name": "stdout",
     "output_type": "stream",
     "text": [
      "[{'accuracy': 100, 'is_top': True, 'name': 'Central Ideas and Details', 'correct_answers': 10, 'incorrect_answers': 0, 'total_questions': 10}, {'accuracy': 100, 'is_top': True, 'name': 'Inferences', 'correct_answers': 13, 'incorrect_answers': 0, 'total_questions': 13}, {'accuracy': 100, 'is_top': True, 'name': 'Command of Evidence - Quantitative', 'correct_answers': 16, 'incorrect_answers': 0, 'total_questions': 16}, {'accuracy': 93, 'is_top': True, 'name': 'Cross-text Connections', 'correct_answers': 8, 'incorrect_answers': 1, 'total_questions': 9}, {'accuracy': 93, 'is_top': True, 'name': 'Text Structure and Purpose', 'correct_answers': 13, 'incorrect_answers': 1, 'total_questions': 14}, {'accuracy': 92, 'is_top': True, 'name': 'Boundaries', 'correct_answers': 12, 'incorrect_answers': 1, 'total_questions': 13}, {'accuracy': 92, 'is_top': True, 'name': 'Rhetorical Synthesis', 'correct_answers': 16, 'incorrect_answers': 3, 'total_questions': 19}, {'accuracy': 89, 'is_top': True, 'name': 'Command of Evidence - Textual', 'correct_answers': 11, 'incorrect_answers': 1, 'total_questions': 12}, {'accuracy': 83, 'is_top': False, 'name': 'Form, Structure, and Sense', 'correct_answers': 17, 'incorrect_answers': 3, 'total_questions': 20}, {'accuracy': 74, 'is_top': False, 'name': 'Words in Context', 'correct_answers': 18, 'incorrect_answers': 6, 'total_questions': 24}, {'accuracy': 70, 'is_top': False, 'name': 'Transitions', 'correct_answers': 10, 'incorrect_answers': 4, 'total_questions': 14}]\n"
     ]
    }
   ],
   "source": [
    "rw_subject_overall_accuracy = report[\"subjects\"][0][\"accuracy_assessment\"][\"skill_wise_performance\"][\"skills\"]\n",
    "print(rw_subject_overall_accuracy)"
   ]
  },
  {
   "cell_type": "code",
   "execution_count": 30,
   "id": "6eab9184",
   "metadata": {
    "vscode": {
     "languageId": "ruby"
    }
   },
   "outputs": [
    {
     "name": "stdout",
     "output_type": "stream",
     "text": [
      "Overall accuracy: 89.63636363636364\n"
     ]
    }
   ],
   "source": [
    "accuracies = []\n",
    "for each_skill in rw_subject_overall_accuracy:\n",
    "    accuracies.append({\"name\": each_skill[\"name\"], \"accuracy\": each_skill[\"accuracy\"]})\n",
    "\n",
    "# Calculate overall accuracy (average)\n",
    "total_accuracy = sum([float(skill[\"accuracy\"]) for skill in accuracies])\n",
    "overall_accuracy = total_accuracy / len(accuracies) if accuracies else 0\n",
    "\n",
    "print(\"Overall accuracy:\", overall_accuracy)"
   ]
  },
  {
   "cell_type": "code",
   "execution_count": null,
   "id": "c63d8253",
   "metadata": {
    "vscode": {
     "languageId": "ruby"
    }
   },
   "outputs": [],
   "source": []
  }
 ],
 "metadata": {
  "kernelspec": {
   "display_name": "myLLM",
   "language": "python",
   "name": "python3"
  },
  "language_info": {
   "codemirror_mode": {
    "name": "ipython",
    "version": 3
   },
   "file_extension": ".py",
   "mimetype": "text/x-python",
   "name": "python",
   "nbconvert_exporter": "python",
   "pygments_lexer": "ipython3",
   "version": "3.12.0"
  }
 },
 "nbformat": 4,
 "nbformat_minor": 5
}
