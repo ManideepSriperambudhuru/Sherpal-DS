{
 "cells": [
  {
   "cell_type": "code",
   "execution_count": 47,
   "id": "3c1e526b",
   "metadata": {},
   "outputs": [],
   "source": [
    "import os\n",
    "from dotenv import load_dotenv\n",
    "_ = load_dotenv()"
   ]
  },
  {
   "cell_type": "markdown",
   "id": "801a459f",
   "metadata": {},
   "source": [
    "## Repeat setup from previous lesson\n"
   ]
  },
  {
   "cell_type": "code",
   "execution_count": 48,
   "id": "da69716d",
   "metadata": {},
   "outputs": [],
   "source": [
    "profile = {\n",
    "    \"name\": \"John\",\n",
    "    \"full_name\": \"John Doe\",\n",
    "    \"user_profile_background\": \"Senior software engineer leading a team of 5 developers\",\n",
    "}"
   ]
  },
  {
   "cell_type": "code",
   "execution_count": 49,
   "id": "0cd2d188",
   "metadata": {},
   "outputs": [],
   "source": [
    "prompt_instructions = {\n",
    "    \"triage_rules\": {\n",
    "        \"ignore\": \"Marketing newsletters, spam emails, mass company announcements\",\n",
    "        \"notify\": \"Team member out sick, build system notifications, project status updates\",\n",
    "        \"respond\": \"Direct questions from team members, meeting requests, critical bug reports\",\n",
    "    },\n",
    "    \"agent_instructions\": \"Use these tools when appropriate to help manage John's tasks efficiently.\"\n",
    "}"
   ]
  },
  {
   "cell_type": "code",
   "execution_count": 50,
   "id": "313b4362",
   "metadata": {},
   "outputs": [],
   "source": [
    "email = {\n",
    "    \"from\": \"Alice Smith <alice.smith@company.com>\",\n",
    "    \"to\": \"John Doe <john.doe@company.com>\",\n",
    "    \"subject\": \"Quick question about API documentation\",\n",
    "    \"body\": \"\"\"\n",
    "Hi John,\n",
    "\n",
    "I was reviewing the API documentation for the new authentication service and noticed a few endpoints seem to be missing from the specs. Could you help clarify if this was intentional or if we should update the docs?\n",
    "\n",
    "Specifically, I'm looking at:\n",
    "- /auth/refresh\n",
    "- /auth/validate\n",
    "\n",
    "Thanks!\n",
    "Alice\"\"\",\n",
    "}"
   ]
  },
  {
   "cell_type": "markdown",
   "id": "36de1d67",
   "metadata": {},
   "source": [
    "# Settings\n"
   ]
  },
  {
   "cell_type": "code",
   "execution_count": 51,
   "id": "151cbb72",
   "metadata": {},
   "outputs": [],
   "source": [
    "from pydantic_settings import BaseSettings     # Pydantic v2 settings integration\n",
    "from pydantic import Field, ConfigDict\n",
    "from typing_extensions import TypedDict, Literal, Annotated\n",
    "\n",
    "\n",
    "class Settings(BaseSettings):\n",
    "    # Put EVERYTHING here—extra handling and env file settings\n",
    "    model_config = ConfigDict(\n",
    "        extra='ignore',             # silently ignore any other env vars\n",
    "        env_file='.env',            # load this dotenv file\n",
    "        env_file_encoding='utf-8'  # file encoding\n",
    "    )\n",
    "\n",
    "    # gemini_api_key: str = Field(..., env='GEMINI_API_KEY')\n",
    "    embedding_model_name:     str = Field(..., env='EMBEDDING_MODEL_NAME')\n",
    "    model_name: str = Field(..., env='MODEL_NAME')\n",
    "    groq_api_key: str = Field(..., env = 'GROQ_API_KEY')\n",
    "\n",
    "# Instantiate without ValidationError\n",
    "# settings = Settings()\n"
   ]
  },
  {
   "cell_type": "markdown",
   "id": "083a47b8",
   "metadata": {},
   "source": [
    "## Look at a few, few-shot-examples\n"
   ]
  },
  {
   "cell_type": "code",
   "execution_count": 52,
   "id": "7f4b2e28",
   "metadata": {},
   "outputs": [],
   "source": [
    "from langgraph.store.memory import InMemoryStore"
   ]
  },
  {
   "cell_type": "code",
   "execution_count": 53,
   "id": "77ed624c",
   "metadata": {},
   "outputs": [],
   "source": [
    "settings = Settings()\n"
   ]
  },
  {
   "cell_type": "code",
   "execution_count": 54,
   "id": "41b50a97",
   "metadata": {},
   "outputs": [],
   "source": [
    "# from langchain_google_genai import GoogleGenerativeAIEmbeddings\n",
    "\n",
    "# # Gemini embeddings using the same API key as the chat model\n",
    "# embeddings = GoogleGenerativeAIEmbeddings(\n",
    "#     model=settings.embedding_model_name,    #\"models/embedding-001\",\n",
    "#     google_api_key=settings.gemini_api_key\n",
    "# )\n",
    "\n",
    "from langchain.embeddings import HuggingFaceEmbeddings\n",
    "\n",
    "embeddings = HuggingFaceEmbeddings(\n",
    "    model_name=settings.embedding_model_name\n",
    ")\n",
    "\n",
    "\n",
    "\n",
    "store = InMemoryStore(\n",
    "    index={\"embed\": embeddings}\n",
    ")"
   ]
  },
  {
   "cell_type": "code",
   "execution_count": 55,
   "id": "4c437909",
   "metadata": {},
   "outputs": [],
   "source": [
    "email = {\n",
    "    \"author\": \"Alice Smith <alice.smith@company.com>\",\n",
    "    \"to\": \"John Doe <john.doe@company.com>\",\n",
    "    \"subject\": \"Quick question about API documentation\",\n",
    "    \"email_thread\": \"\"\"Hi John,\n",
    "\n",
    "I was reviewing the API documentation for the new authentication service and noticed a few endpoints seem to be missing from the specs. Could you help clarify if this was intentional or if we should update the docs?\n",
    "\n",
    "Specifically, I'm looking at:\n",
    "- /auth/refresh\n",
    "- /auth/validate\n",
    "\n",
    "Thanks!\n",
    "Alice\"\"\",\n",
    "}\n"
   ]
  },
  {
   "cell_type": "code",
   "execution_count": 56,
   "id": "aafd9197",
   "metadata": {},
   "outputs": [],
   "source": [
    "data = {\n",
    "    \"email\": email,\n",
    "    # This is to start changing the behavior of the agent\n",
    "    \"label\": \"respond\"\n",
    "}"
   ]
  },
  {
   "cell_type": "markdown",
   "id": "8785d21e",
   "metadata": {},
   "source": [
    "#### store example into memory store using 'examples' to indicate episodic memory\n"
   ]
  },
  {
   "cell_type": "code",
   "execution_count": 57,
   "id": "7dd87d5c",
   "metadata": {},
   "outputs": [],
   "source": [
    "import uuid\n",
    "store.put(\n",
    "    (\"email_assistant\", \"lance\", \"examples\"), \n",
    "    str(uuid.uuid4()), \n",
    "    data\n",
    ")"
   ]
  },
  {
   "cell_type": "markdown",
   "id": "24a35958",
   "metadata": {},
   "source": [
    "### Store a Second Example\n"
   ]
  },
  {
   "cell_type": "code",
   "execution_count": 58,
   "id": "f16a87f3",
   "metadata": {},
   "outputs": [],
   "source": [
    "data = {\n",
    "    \"email\": {\n",
    "        \"author\": \"Sarah Chen <sarah.chen@company.com>\",\n",
    "        \"to\": \"John Doe <john.doe@company.com>\",\n",
    "        \"subject\": \"Update: Backend API Changes Deployed to Staging\",\n",
    "        \"email_thread\": \"\"\"Hi John,\n",
    "    \n",
    "    Just wanted to let you know that I've deployed the new authentication endpoints we discussed to the staging environment. Key changes include:\n",
    "    \n",
    "    - Implemented JWT refresh token rotation\n",
    "    - Added rate limiting for login attempts\n",
    "    - Updated API documentation with new endpoints\n",
    "    \n",
    "    All tests are passing and the changes are ready for review. You can test it out at staging-api.company.com/auth/*\n",
    "    \n",
    "    No immediate action needed from your side - just keeping you in the loop since this affects the systems you're working on.\n",
    "    \n",
    "    Best regards,\n",
    "    Sarah\n",
    "    \"\"\",\n",
    "    },\n",
    "    \"label\": \"ignore\"\n",
    "}"
   ]
  },
  {
   "cell_type": "code",
   "execution_count": 59,
   "id": "9bceb476",
   "metadata": {},
   "outputs": [],
   "source": [
    "store.put(\n",
    "    (\"email_assistant\", \"lance\", \"examples\"),\n",
    "    str(uuid.uuid4()),\n",
    "    data\n",
    ")"
   ]
  },
  {
   "cell_type": "markdown",
   "id": "c17b4379",
   "metadata": {},
   "source": [
    "### Simulate searching and returning examples\n"
   ]
  },
  {
   "cell_type": "code",
   "execution_count": 60,
   "id": "42dd101e",
   "metadata": {},
   "outputs": [],
   "source": [
    "# Template for formating an example to put in prompt\n",
    "template = \"\"\"Email Subject: {subject}\n",
    "Email From: {from_email}\n",
    "Email To: {to_email}\n",
    "Email Content: \n",
    "```\n",
    "{content}\n",
    "```\n",
    "> Triage Result: {result}\"\"\"\n",
    "\n",
    "# Format list of few shots\n",
    "def format_few_shot_examples(examples):\n",
    "    strs = [\"Here are some previous examples:\"]\n",
    "    for eg in examples:\n",
    "        strs.append(\n",
    "            template.format(\n",
    "                subject=eg.value[\"email\"][\"subject\"],\n",
    "                to_email=eg.value[\"email\"][\"to\"],\n",
    "                from_email=eg.value[\"email\"][\"author\"],\n",
    "                content=eg.value[\"email\"][\"email_thread\"][:400],\n",
    "                result=eg.value[\"label\"],\n",
    "            )\n",
    "        )\n",
    "    return \"\\n\\n------------\\n\\n\".join(strs)"
   ]
  },
  {
   "cell_type": "code",
   "execution_count": 61,
   "id": "f3f1f41d",
   "metadata": {},
   "outputs": [],
   "source": [
    "email_data = {\n",
    "        \"author\": \"Sarah Chen <sarah.chen@company.com>\",\n",
    "        \"to\": \"John Doe <john.doe@company.com>\",\n",
    "        \"subject\": \"Update: Backend API Changes Deployed to Staging\",\n",
    "        \"email_thread\": \"\"\"Hi John,\n",
    "    \n",
    "    Wanted to let you know that I've deployed the new authentication endpoints we discussed to the staging environment. Key changes include:\n",
    "    \n",
    "    - Implemented JWT refresh token rotation\n",
    "    - Added rate limiting for login attempts\n",
    "    - Updated API documentation with new endpoints\n",
    "    \n",
    "    All tests are passing and the changes are ready for review. You can test it out at staging-api.company.com/auth/*\n",
    "    \n",
    "    No immediate action needed from your side - just keeping you in the loop since this affects the systems you're working on.\n",
    "    \n",
    "    Best regards,\n",
    "    Sarah\n",
    "    \"\"\",\n",
    "    }\n",
    "results = store.search(\n",
    "    (\"email_assistant\", \"lance\", \"examples\"),\n",
    "    query=str({\"email\": email_data}),\n",
    "    limit=1)"
   ]
  },
  {
   "cell_type": "code",
   "execution_count": 62,
   "id": "ff43f257",
   "metadata": {},
   "outputs": [
    {
     "name": "stdout",
     "output_type": "stream",
     "text": [
      "Here are some previous examples:\n",
      "\n",
      "------------\n",
      "\n",
      "Email Subject: Update: Backend API Changes Deployed to Staging\n",
      "Email From: Sarah Chen <sarah.chen@company.com>\n",
      "Email To: John Doe <john.doe@company.com>\n",
      "Email Content: \n",
      "```\n",
      "Hi John,\n",
      "    \n",
      "    Just wanted to let you know that I've deployed the new authentication endpoints we discussed to the staging environment. Key changes include:\n",
      "    \n",
      "    - Implemented JWT refresh token rotation\n",
      "    - Added rate limiting for login attempts\n",
      "    - Updated API documentation with new endpoints\n",
      "    \n",
      "    All tests are passing and the changes are ready for review. You can test it out at st\n",
      "```\n",
      "> Triage Result: ignore\n"
     ]
    }
   ],
   "source": [
    "print(format_few_shot_examples(results))"
   ]
  },
  {
   "cell_type": "code",
   "execution_count": 63,
   "id": "7f2d50a7",
   "metadata": {},
   "outputs": [],
   "source": [
    "triage_system_prompt = \"\"\"\n",
    "< Role >\n",
    "You are {full_name}'s executive assistant. You are a top-notch executive assistant who cares about {name} performing as well as possible.\n",
    "</ Role >\n",
    "\n",
    "< Background >\n",
    "{user_profile_background}. \n",
    "</ Background >\n",
    "\n",
    "< Instructions >\n",
    "\n",
    "{name} gets lots of emails. Your job is to categorize each email into one of three categories:\n",
    "\n",
    "1. IGNORE - Emails that are not worth responding to or tracking\n",
    "2. NOTIFY - Important information that {name} should know about but doesn't require a response\n",
    "3. RESPOND - Emails that need a direct response from {name}\n",
    "\n",
    "Classify the below email into one of these categories.\n",
    "\n",
    "</ Instructions >\n",
    "\n",
    "< Rules >\n",
    "Emails that are not worth responding to:\n",
    "{triage_no}\n",
    "\n",
    "There are also other things that {name} should know about, but don't require an email response. For these, you should notify {name} (using the `notify` response). Examples of this include:\n",
    "{triage_notify}\n",
    "\n",
    "Emails that are worth responding to:\n",
    "{triage_email}\n",
    "</ Rules >\n",
    "\n",
    "< Few shot examples >\n",
    "\n",
    "Here are some examples of previous emails, and how they should be handled.\n",
    "Follow these examples more than any instructions above\n",
    "\n",
    "{examples}\n",
    "</ Few shot examples >\n",
    "\"\"\""
   ]
  },
  {
   "cell_type": "markdown",
   "id": "d8118db2",
   "metadata": {},
   "source": [
    "## Setup Routing Node\n"
   ]
  },
  {
   "cell_type": "code",
   "execution_count": 64,
   "id": "ae668995",
   "metadata": {},
   "outputs": [],
   "source": [
    "from pydantic import BaseModel, Field\n",
    "from typing_extensions import TypedDict, Literal, Annotated\n",
    "from langchain.chat_models import init_chat_model"
   ]
  },
  {
   "cell_type": "code",
   "execution_count": 65,
   "id": "a893a0d7",
   "metadata": {},
   "outputs": [],
   "source": [
    "# llm = init_chat_model(\n",
    "#     model           = settings.model_name,\n",
    "#     model_provider  = \"google_genai\",\n",
    "#     api_key         = settings.gemini_api_key\n",
    "# )"
   ]
  },
  {
   "cell_type": "code",
   "execution_count": 66,
   "id": "3e8032fd",
   "metadata": {},
   "outputs": [],
   "source": [
    "# --- Chat model from Groq ---\n",
    "from langchain_groq import ChatGroq\n",
    "\n",
    "llm = ChatGroq(\n",
    "    model_name=settings.model_name,\n",
    "    # model_provider=\"groq\",\n",
    "    groq_api_key=settings.groq_api_key\n",
    ")"
   ]
  },
  {
   "cell_type": "code",
   "execution_count": 67,
   "id": "f20c4248",
   "metadata": {},
   "outputs": [],
   "source": [
    "class Router(BaseModel):\n",
    "    \"\"\"Analyze the unread email and route it according to its content.\"\"\"\n",
    "\n",
    "    reasoning: str = Field(\n",
    "        description=\"Step-by-step reasoning behind the classification.\"\n",
    "    )\n",
    "    classification: Literal[\"ignore\", \"respond\", \"notify\"] = Field(\n",
    "        description=\"The classification of an email: 'ignore' for irrelevant emails, \"\n",
    "        \"'notify' for important information that doesn't need a response, \"\n",
    "        \"'respond' for emails that need a reply\",\n",
    "    )"
   ]
  },
  {
   "cell_type": "code",
   "execution_count": 68,
   "id": "6d1ed61e",
   "metadata": {},
   "outputs": [],
   "source": [
    "llm_router = llm.with_structured_output(Router)"
   ]
  },
  {
   "cell_type": "code",
   "execution_count": 69,
   "id": "064c41c1",
   "metadata": {},
   "outputs": [],
   "source": [
    "from prompts import triage_user_prompt"
   ]
  },
  {
   "cell_type": "markdown",
   "id": "78c96dbb",
   "metadata": {},
   "source": [
    "### Setup Triage Router Node\n"
   ]
  },
  {
   "cell_type": "code",
   "execution_count": 70,
   "id": "5208884c",
   "metadata": {},
   "outputs": [],
   "source": [
    "from langgraph.graph import add_messages\n",
    "\n",
    "class State(TypedDict):\n",
    "    email_input: dict\n",
    "    messages: Annotated[list, add_messages]"
   ]
  },
  {
   "cell_type": "code",
   "execution_count": 71,
   "id": "0fbc4b0a",
   "metadata": {},
   "outputs": [],
   "source": [
    "from langgraph.graph import StateGraph, START, END\n",
    "from langgraph.types import Command\n",
    "from typing import Literal\n",
    "from IPython.display import Image, display"
   ]
  },
  {
   "cell_type": "code",
   "execution_count": 72,
   "id": "5b735d79",
   "metadata": {},
   "outputs": [],
   "source": [
    "def triage_router(state: State, config, store) -> Command[\n",
    "    Literal[\"response_agent\", \"__end__\"]\n",
    "]:\n",
    "    author = state['email_input']['author']\n",
    "    to = state['email_input']['to']\n",
    "    subject = state['email_input']['subject']\n",
    "    email_thread = state['email_input']['email_thread']\n",
    "\n",
    "    namespace = (\n",
    "        \"email_assistant\",\n",
    "        config['configurable']['langgraph_user_id'],\n",
    "        \"examples\"\n",
    "    )\n",
    "    examples = store.search(\n",
    "        namespace, \n",
    "        query=str({\"email\": state['email_input']})\n",
    "    ) \n",
    "    examples=format_few_shot_examples(examples)\n",
    "    \n",
    "    system_prompt = triage_system_prompt.format(\n",
    "        full_name=profile[\"full_name\"],\n",
    "        name=profile[\"name\"],\n",
    "        user_profile_background=profile[\"user_profile_background\"],\n",
    "        triage_no=prompt_instructions[\"triage_rules\"][\"ignore\"],\n",
    "        triage_notify=prompt_instructions[\"triage_rules\"][\"notify\"],\n",
    "        triage_email=prompt_instructions[\"triage_rules\"][\"respond\"],\n",
    "        examples=examples\n",
    "    )\n",
    "    user_prompt = triage_user_prompt.format(\n",
    "        author=author, \n",
    "        to=to, \n",
    "        subject=subject, \n",
    "        email_thread=email_thread\n",
    "    )\n",
    "    result = llm_router.invoke(\n",
    "        [\n",
    "            {\"role\": \"system\", \"content\": system_prompt},\n",
    "            {\"role\": \"user\", \"content\": user_prompt},\n",
    "        ]\n",
    "    )\n",
    "    if result.classification == \"respond\":\n",
    "        print(\"📧 Classification: RESPOND - This email requires a response\")\n",
    "        goto = \"response_agent\"\n",
    "        update = {\n",
    "            \"messages\": [\n",
    "                {\n",
    "                    \"role\": \"user\",\n",
    "                    \"content\": f\"Respond to the email {state['email_input']}\",\n",
    "                }\n",
    "            ]\n",
    "        }\n",
    "    elif result.classification == \"ignore\":\n",
    "        print(\"🚫 Classification: IGNORE - This email can be safely ignored\")\n",
    "        update = None\n",
    "        goto = END\n",
    "    elif result.classification == \"notify\":\n",
    "        # If real life, this would do something else\n",
    "        print(\"🔔 Classification: NOTIFY - This email contains important information\")\n",
    "        update = None\n",
    "        goto = END\n",
    "    else:\n",
    "        raise ValueError(f\"Invalid classification: {result.classification}\")\n",
    "    return Command(goto=goto, update=update)"
   ]
  },
  {
   "cell_type": "markdown",
   "id": "48b2bd1d",
   "metadata": {},
   "source": [
    "### Setup the rest of the agent\n",
    "\n",
    "    Use the same tools\n"
   ]
  },
  {
   "cell_type": "code",
   "execution_count": 73,
   "id": "a132c9a0",
   "metadata": {},
   "outputs": [],
   "source": [
    "from langchain_core.tools import tool"
   ]
  },
  {
   "cell_type": "code",
   "execution_count": 74,
   "id": "1a50e75e",
   "metadata": {},
   "outputs": [],
   "source": [
    "@tool\n",
    "def write_email(to: str, subject: str, content: str) -> str:\n",
    "    \"\"\"Write and send an email.\"\"\"\n",
    "    # Placeholder response - in real app would send email\n",
    "    return f\"Email sent to {to} with subject '{subject}'\"\n"
   ]
  },
  {
   "cell_type": "code",
   "execution_count": 75,
   "id": "6ef5f481",
   "metadata": {},
   "outputs": [],
   "source": [
    "@tool\n",
    "def schedule_meeting(\n",
    "    attendees: list[str], \n",
    "    subject: str, \n",
    "    duration_minutes: int, \n",
    "    preferred_day: str\n",
    ") -> str:\n",
    "    \"\"\"Schedule a calendar meeting.\"\"\"\n",
    "    # Placeholder response - in real app would check calendar and schedule\n",
    "    return f\"Meeting '{subject}' scheduled for {preferred_day} with {len(attendees)} attendees\"\n"
   ]
  },
  {
   "cell_type": "code",
   "execution_count": 76,
   "id": "67c27622",
   "metadata": {},
   "outputs": [],
   "source": [
    "@tool\n",
    "def check_calendar_availability(day: str) -> str:\n",
    "    \"\"\"Check calendar availability for a given day.\"\"\"\n",
    "    # Placeholder response - in real app would check actual calendar\n",
    "    return f\"Available times on {day}: 9:00 AM, 2:00 PM, 4:00 PM\""
   ]
  },
  {
   "cell_type": "code",
   "execution_count": 77,
   "id": "fcc0a3fc",
   "metadata": {},
   "outputs": [],
   "source": [
    "from langmem import create_manage_memory_tool, create_search_memory_tool"
   ]
  },
  {
   "cell_type": "code",
   "execution_count": 78,
   "id": "92a93932",
   "metadata": {},
   "outputs": [],
   "source": [
    "manage_memory_tool = create_manage_memory_tool(\n",
    "    namespace=(\n",
    "        \"email_assistant\", \n",
    "        \"{langgraph_user_id}\",\n",
    "        \"collection\"\n",
    "    )\n",
    ")\n",
    "search_memory_tool = create_search_memory_tool(\n",
    "    namespace=(\n",
    "        \"email_assistant\",\n",
    "        \"{langgraph_user_id}\",\n",
    "        \"collection\"\n",
    "    )\n",
    ")"
   ]
  },
  {
   "cell_type": "code",
   "execution_count": 79,
   "id": "ccaf93e8",
   "metadata": {},
   "outputs": [],
   "source": [
    "agent_system_prompt_memory = \"\"\"\n",
    "< Role >\n",
    "You are {full_name}'s executive assistant. You are a top-notch executive assistant who cares about {name} performing as well as possible.\n",
    "</ Role >\n",
    "\n",
    "< Tools >\n",
    "You have access to the following tools to help manage {name}'s communications and schedule:\n",
    "\n",
    "1. write_email(to, subject, content) - Send emails to specified recipients\n",
    "2. schedule_meeting(attendees, subject, duration_minutes, preferred_day) - Schedule calendar meetings\n",
    "3. check_calendar_availability(day) - Check available time slots for a given day\n",
    "4. manage_memory - Store any relevant information about contacts, actions, discussion, etc. in memory for future reference\n",
    "5. search_memory - Search for any relevant information that may have been stored in memory\n",
    "</ Tools >\n",
    "\n",
    "< Instructions >\n",
    "{instructions}\n",
    "</ Instructions >\n",
    "\"\"\""
   ]
  },
  {
   "cell_type": "code",
   "execution_count": 80,
   "id": "73a478cc",
   "metadata": {},
   "outputs": [],
   "source": [
    "def create_prompt(state):\n",
    "    return [\n",
    "        {\n",
    "            \"role\": \"system\", \n",
    "            \"content\": agent_system_prompt_memory.format(\n",
    "                instructions=prompt_instructions[\"agent_instructions\"], \n",
    "                **profile\n",
    "            )\n",
    "        }\n",
    "    ] + state['messages']"
   ]
  },
  {
   "cell_type": "code",
   "execution_count": 81,
   "id": "68cd84a1",
   "metadata": {},
   "outputs": [],
   "source": [
    "from langgraph.prebuilt import create_react_agent"
   ]
  },
  {
   "cell_type": "code",
   "execution_count": 82,
   "id": "8a27308c",
   "metadata": {},
   "outputs": [],
   "source": [
    "tools= [\n",
    "    write_email, \n",
    "    schedule_meeting,\n",
    "    check_calendar_availability,\n",
    "    manage_memory_tool,\n",
    "    search_memory_tool\n",
    "]\n",
    "response_agent = create_react_agent(\n",
    "    llm,\n",
    "    tools=tools,\n",
    "    prompt=create_prompt,\n",
    "    # Use this to ensure the store is passed to the agent \n",
    "    store=store\n",
    ")"
   ]
  },
  {
   "cell_type": "code",
   "execution_count": 83,
   "id": "9c135690",
   "metadata": {},
   "outputs": [],
   "source": [
    "config = {\"configurable\": {\"langgraph_user_id\": \"lance\"}}"
   ]
  },
  {
   "cell_type": "markdown",
   "id": "111bc186",
   "metadata": {},
   "source": [
    "## Build the email agent graph\n"
   ]
  },
  {
   "cell_type": "code",
   "execution_count": 84,
   "id": "8480acf0",
   "metadata": {},
   "outputs": [],
   "source": [
    "email_agent = StateGraph(State)\n",
    "email_agent = email_agent.add_node(triage_router)\n",
    "email_agent = email_agent.add_node(\"response_agent\", response_agent)\n",
    "email_agent = email_agent.add_edge(START, \"triage_router\")\n",
    "email_agent = email_agent.compile(store=store)"
   ]
  },
  {
   "cell_type": "markdown",
   "id": "a2f7fe8e",
   "metadata": {},
   "source": [
    "### Try out the agent on an example email\n"
   ]
  },
  {
   "cell_type": "code",
   "execution_count": 85,
   "id": "dc81e9b9",
   "metadata": {},
   "outputs": [],
   "source": [
    "email_input = {\n",
    "    \"author\": \"Tom Jones <tome.jones@bar.com>\",\n",
    "    \"to\": \"John Doe <john.doe@company.com>\",\n",
    "    \"subject\": \"Quick question about API documentation\",\n",
    "    \"email_thread\": \"\"\"Hi John - want to buy documentation?\"\"\",\n",
    "}"
   ]
  },
  {
   "cell_type": "code",
   "execution_count": 86,
   "id": "e2e650f0",
   "metadata": {},
   "outputs": [
    {
     "name": "stdout",
     "output_type": "stream",
     "text": [
      "📧 Classification: RESPOND - This email requires a response\n"
     ]
    }
   ],
   "source": [
    "response = email_agent.invoke(\n",
    "    {\"email_input\": email_input}, \n",
    "    config={\"configurable\": {\"langgraph_user_id\": \"harrison\"}}\n",
    ")"
   ]
  },
  {
   "cell_type": "markdown",
   "id": "7534a864",
   "metadata": {},
   "source": [
    "#### Update store to ignore emails like this\n"
   ]
  },
  {
   "cell_type": "code",
   "execution_count": 87,
   "id": "c612f721",
   "metadata": {},
   "outputs": [],
   "source": [
    "data = {\n",
    "    \"email\": {\n",
    "    \"author\": \"Tom Jones <tome.jones@bar.com>\",\n",
    "    \"to\": \"John Doe <john.doe@company.com>\",\n",
    "    \"subject\": \"Quick question about API documentation\",\n",
    "    \"email_thread\": \"\"\"Hi John - want to buy documentation?\"\"\",\n",
    "},\n",
    "    \"label\": \"ignore\"\n",
    "}"
   ]
  },
  {
   "cell_type": "code",
   "execution_count": 88,
   "id": "135ca810",
   "metadata": {},
   "outputs": [],
   "source": [
    "store.put(\n",
    "    (\"email_assistant\", \"harrison\", \"examples\"),\n",
    "    str(uuid.uuid4()),\n",
    "    data\n",
    ")"
   ]
  },
  {
   "cell_type": "markdown",
   "id": "59b117b8",
   "metadata": {},
   "source": [
    "#### Try it again, it should ignore this time\n"
   ]
  },
  {
   "cell_type": "code",
   "execution_count": 89,
   "id": "f2007575",
   "metadata": {},
   "outputs": [],
   "source": [
    "email_input = {\n",
    "    \"author\": \"Tom Jones <tome.jones@bar.com>\",\n",
    "    \"to\": \"John Doe <john.doe@company.com>\",\n",
    "    \"subject\": \"Quick question about API documentation\",\n",
    "    \"email_thread\": \"\"\"Hi John - want to buy documentation?\"\"\",\n",
    "}"
   ]
  },
  {
   "cell_type": "code",
   "execution_count": 90,
   "id": "71b9c8de",
   "metadata": {},
   "outputs": [],
   "source": [
    "class AgentState:\n",
    "    def __init__(self):\n",
    "        self.recursion_depth = 0\n",
    "        # other state variables\n",
    "\n",
    "def some_node(state: AgentState):\n",
    "    if state.recursion_depth > MAX_DEPTH:\n",
    "        return\n",
    "    state.recursion_depth += 1\n",
    "    # node logic\n"
   ]
  },
  {
   "cell_type": "code",
   "execution_count": 91,
   "id": "6c218d72",
   "metadata": {},
   "outputs": [
    {
     "name": "stdout",
     "output_type": "stream",
     "text": [
      "🚫 Classification: IGNORE - This email can be safely ignored\n"
     ]
    }
   ],
   "source": [
    "response = email_agent.invoke(\n",
    "    {\"email_input\": email_input}, \n",
    "    config={\"configurable\": {\"langgraph_user_id\": \"harrison\"}, 'recursion_limit': 100}\n",
    ")"
   ]
  },
  {
   "cell_type": "markdown",
   "id": "5fee473a",
   "metadata": {},
   "source": [
    "#### Slightly modify text, will continue to ignore\n"
   ]
  },
  {
   "cell_type": "code",
   "execution_count": 92,
   "id": "477845b3",
   "metadata": {},
   "outputs": [],
   "source": [
    "email_input = {\n",
    "    \"author\": \"Jim Jones <jim.jones@bar.com>\",\n",
    "    \"to\": \"John Doe <john.doe@company.com>\",\n",
    "    \"subject\": \"Quick question about API documentation\",\n",
    "    \"email_thread\": \"\"\"Hi John - want to buy documentation?????\"\"\",\n",
    "}"
   ]
  },
  {
   "cell_type": "code",
   "execution_count": 93,
   "id": "6a2fcf9c",
   "metadata": {},
   "outputs": [
    {
     "name": "stdout",
     "output_type": "stream",
     "text": [
      "🚫 Classification: IGNORE - This email can be safely ignored\n"
     ]
    }
   ],
   "source": [
    "response = email_agent.invoke(\n",
    "    {\"email_input\": email_input}, \n",
    "    config={\"configurable\": {\"langgraph_user_id\": \"harrison\"}}\n",
    ")"
   ]
  },
  {
   "cell_type": "markdown",
   "id": "671e5403",
   "metadata": {},
   "source": [
    "#### Try with a different user id\n"
   ]
  },
  {
   "cell_type": "code",
   "execution_count": 94,
   "id": "3e2368c7",
   "metadata": {},
   "outputs": [
    {
     "name": "stdout",
     "output_type": "stream",
     "text": [
      "📧 Classification: RESPOND - This email requires a response\n"
     ]
    }
   ],
   "source": [
    "response = email_agent.invoke(\n",
    "    {\"email_input\": email_input}, \n",
    "    config={\"configurable\": {\"langgraph_user_id\": \"andrew\"}}\n",
    ")"
   ]
  },
  {
   "cell_type": "code",
   "execution_count": null,
   "id": "2390ddec",
   "metadata": {},
   "outputs": [],
   "source": []
  },
  {
   "cell_type": "code",
   "execution_count": null,
   "id": "62d03223",
   "metadata": {},
   "outputs": [],
   "source": []
  },
  {
   "cell_type": "code",
   "execution_count": null,
   "id": "f06e979e",
   "metadata": {},
   "outputs": [],
   "source": []
  },
  {
   "cell_type": "code",
   "execution_count": null,
   "id": "b4b84847",
   "metadata": {},
   "outputs": [],
   "source": []
  },
  {
   "cell_type": "code",
   "execution_count": null,
   "id": "9d811ce9",
   "metadata": {},
   "outputs": [],
   "source": []
  },
  {
   "cell_type": "code",
   "execution_count": null,
   "id": "02186b07",
   "metadata": {},
   "outputs": [],
   "source": []
  },
  {
   "cell_type": "code",
   "execution_count": null,
   "id": "fa661f94",
   "metadata": {},
   "outputs": [],
   "source": []
  },
  {
   "cell_type": "code",
   "execution_count": null,
   "id": "52c51cba",
   "metadata": {},
   "outputs": [],
   "source": []
  }
 ],
 "metadata": {
  "kernelspec": {
   "display_name": "myLLM",
   "language": "python",
   "name": "python3"
  },
  "language_info": {
   "codemirror_mode": {
    "name": "ipython",
    "version": 3
   },
   "file_extension": ".py",
   "mimetype": "text/x-python",
   "name": "python",
   "nbconvert_exporter": "python",
   "pygments_lexer": "ipython3",
   "version": "3.12.0"
  }
 },
 "nbformat": 4,
 "nbformat_minor": 5
}
