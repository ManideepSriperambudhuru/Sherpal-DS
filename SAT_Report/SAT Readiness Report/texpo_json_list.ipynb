{
 "cells": [
  {
   "cell_type": "code",
   "execution_count": 22,
   "id": "a2235636",
   "metadata": {},
   "outputs": [],
   "source": [
    "def extract_all_sections(data):\n",
    "    pairs = []\n",
    "\n",
    "    def flatten(content):\n",
    "        if isinstance(content, str):\n",
    "            return content\n",
    "        elif isinstance(content, list):\n",
    "            return \" \".join(flatten(item) for item in content)\n",
    "        elif isinstance(content, dict):\n",
    "            return \" \".join(flatten(v) for v in content.values())\n",
    "        return \"\"\n",
    "\n",
    "    for section in data:\n",
    "        title = section.get(\"title\", \"Untitled\")\n",
    "        desc = section.get(\"description\")\n",
    "\n",
    "        # Special handling for \"Your Study Plan: Based on You\"\n",
    "        if title == \"Your Study Plan: Based on You\" and isinstance(desc, list):\n",
    "            for subsection in desc:\n",
    "                sub_title = subsection.get(\"title\")\n",
    "                sub_desc = subsection.get(\"description\")\n",
    "\n",
    "                if sub_title == \"Study Plan Phases\":\n",
    "                    if isinstance(sub_desc, list):\n",
    "                        for phase_dict in sub_desc:\n",
    "                            for phase_name, phase_content in phase_dict.items():\n",
    "                                phase_text = flatten(phase_content)\n",
    "                                pairs.append((phase_name, phase_text))\n",
    "\n",
    "                    guidelines = subsection.get(\"guidelines\", [])\n",
    "                    if guidelines:\n",
    "                        pairs.append((\"Study Plan Guidelines\", flatten(guidelines)))\n",
    "\n",
    "                elif sub_title == \"weekly_schedule\":\n",
    "                    combined_schedule = \" \".join(sub_desc) if isinstance(sub_desc, list) else flatten(sub_desc)\n",
    "                    pairs.append((\"weekly_schedule\", combined_schedule))\n",
    "\n",
    "                else:\n",
    "                    pairs.append((sub_title, flatten(sub_desc)))\n",
    "        else:\n",
    "            pairs.append((title, flatten(desc)))\n",
    "\n",
    "    return pairs\n"
   ]
  },
  {
   "cell_type": "code",
   "execution_count": 23,
   "id": "e6d8f83e",
   "metadata": {},
   "outputs": [
    {
     "name": "stdout",
     "output_type": "stream",
     "text": [
      "[('Your Learning Persona', 'Aarthi, as a Persistent Hiker, you embody a balanced and thoughtful approach to learning that values steady progress and emotional well-being. Your calm and deliberate mindset helps you maintain consistency without succumbing to stress, making your study journey sustainable and mindful. You naturally prioritize harmony and mental health, which supports your resilience and maturity as a learner. At the same time, embracing gentle challenges that stretch your limits can unlock even greater growth, helping you move beyond comfort zones without disrupting your inner balance.'), ('Your SAT Practice Snapshot', 'Your current SAT practice results show strong performance, with a Reading & Writing score of 730 and an impressive Math score of 790, bringing your total to 1520. Your reading accuracy stands at 89%, while your math accuracy is outstanding at 98%. With your goal score set at 1550, you are very close to reaching your target. Your steady effort and thoughtful approach have laid a solid foundation, and with focused refinement, you have great promise to achieve your goal.'), ('What This Means For You', 'Your strengths shine clearly in math, where near-perfect accuracy across Algebra, Problem-Solving, and Geometry reflects your persistence and steady mastery. In Reading & Writing, your high accuracy in Information and Ideas and Standard English Conventions shows strong comprehension and command of language. To reach your goal, focusing on Craft and Structure, where accuracy is comparatively lower, will be key. Embracing small, manageable challenges in this area can help you overcome any tendency to avoid discomfort and push your skills further, turning potential plateaus into meaningful progress.'), ('motivational paragraph', 'Aarthi, your Persistent Hiker mindset is a powerful asset on your SAT journey. Your calm, steady approach and self-awareness create a strong foundation for sustainable growth. While you naturally avoid stress, gently embracing micro-challenges will help you stretch your abilities without disrupting your inner balance. Remember, quiet determination—like that of Keanu Reeves—can lead to deeply meaningful success. This plan is designed to honor your strengths while encouraging you to step just a bit beyond your comfort zone, unlocking your full potential.'), ('reading writing strategies', '1. Focus targeted practice on Craft and Structure by breaking down complex sentence and paragraph relationships into smaller, manageable parts to reduce overwhelm. 2. Use gamified exercises that reward progress in challenging areas, turning study sessions into motivating micro-challenges aligned with your steady learning style. 3. Reflect after each practice session on what felt comfortable versus challenging, helping you recognize growth opportunities without pressure.'), ('math strategies', '1. Maintain your strong foundation by reviewing Advanced Math concepts with timed drills to build fluency and confidence under mild time pressure. 2. Pair with a slightly more intense peer or study group occasionally to introduce healthy, supportive competition that can boost motivation. 3. Use deliberate, calm problem-solving sessions focusing on error analysis to deepen understanding without rushing or stress.'), ('Foundation', 'May 22, 2025 - July 15, 2025 Prioritize Craft and Structure, where accuracy is lowest (82%). Use low-pressure, step-by-step exercises to build confidence and understanding, addressing the tendency to avoid challenging content. Focus on Advanced Math (93% accuracy) to refine and solidify concepts, ensuring no gaps remain. Maintain steady pacing aligned with your preference for sustainable growth.'), ('Elevation', 'July 16, 2025 - August 3, 2025 Refine skills in Expression of Ideas and Information and Ideas (91% and 92% accuracy), integrating timing strategies and fluency to prepare for test conditions. Continue polishing Advanced Math and maintain mastery in Algebra, Problem-Solving, and Geometry with mixed timed practice to build endurance.'), ('Peak', 'August 4, 2025 - August 8, 2025 Focus on final review of Craft and Structure errors with simulated SAT sections to build test readiness and confidence. Prioritize strategic review of any minor inconsistencies under time pressure, using calm, focused practice to ensure peak performance.'), ('weekly_schedule', 'Monday: focus area: Craft and Structure - duration 60 minutes. Tuesday: focus area: Advanced Math - duration 60 minutes. Wednesday: focus area: Expression of Ideas - duration 60 minutes. Thursday: focus area: Information and Ideas - duration 60 minutes. Friday: focus area: Standard English Conventions - duration 60 minutes. Saturday: focus area: Mixed Reading & Writing review - duration 60 minutes. Sunday: focus area: Flex Day (review, catch-up, or rest) - duration 30 minutes.'), ('study_tips', '1. Break challenging topics into small, manageable steps to avoid overwhelm. 2. Celebrate small wins to maintain motivation and reinforce progress. 3. Use reflection journals after study sessions to track growth and identify next steps. 4. Incorporate gentle peer challenges to boost engagement without pressure. 5. Prioritize mental well-being by balancing study with restful breaks.'), ('Want to Go Further?', 'Aarthi, unlocking full Sherpal access will elevate your SAT preparation with hyper-personalized study plans, interactive learning tools, and AI-driven coaching tailored just for you. Experience dynamic simulations, real-time feedback, and supportive peer mentoring designed to keep you motivated and on track. This comprehensive approach ensures every step you take is purposeful and aligned with your unique strengths and goals, helping you confidently reach and surpass your target score.'), ('Footer', '👉 Unlock Full Access – $300 for the entire journey  Includes complete access to your study plan, AI tutoring, simulations, and peer mentoring.')]\n"
     ]
    }
   ],
   "source": [
    "with open(r\"C:\\Users\\Manideep S\\Downloads\\Aarthi_1.json\", 'r') as f:\n",
    "    data = json.load(f)\n",
    "pairs = extract_all_sections(data)\n",
    "print(pairs)"
   ]
  },
  {
   "cell_type": "code",
   "execution_count": null,
   "id": "10a679ae",
   "metadata": {},
   "outputs": [],
   "source": []
  }
 ],
 "metadata": {
  "kernelspec": {
   "display_name": "myLLM",
   "language": "python",
   "name": "python3"
  },
  "language_info": {
   "codemirror_mode": {
    "name": "ipython",
    "version": 3
   },
   "file_extension": ".py",
   "mimetype": "text/x-python",
   "name": "python",
   "nbconvert_exporter": "python",
   "pygments_lexer": "ipython3",
   "version": "3.12.0"
  }
 },
 "nbformat": 4,
 "nbformat_minor": 5
}
