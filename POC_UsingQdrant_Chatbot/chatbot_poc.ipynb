{
 "cells": [
  {
   "cell_type": "code",
   "execution_count": null,
   "id": "25816403",
   "metadata": {},
   "outputs": [],
   "source": [
    "from dotenv import load_dotenv\n",
    "import os\n",
    "from langchain_openai import ChatOpenAI\n",
    "import datetime\n",
    "\n",
    "\n",
    "\n",
    "# Load .env environment variables\n",
    "load_dotenv()\n",
    "os.environ[\"GROQ_API_KEY\"] = os.getenv(\"GROQ_API_KEY\")\n",
    "\n",
    "def invoke_llm(prompt):\n",
    "    llm = ChatOpenAI(\n",
    "            model= os.getenv(\"OPENAI_MODEL\"),\n",
    "            openai_api_key=os.getenv(\"OPENAI_API_KEY\"),\n",
    "            temperature=0.7,\n",
    "            max_tokens=10000,\n",
    "            top_p=0.95,\n",
    "            frequency_penalty=0,\n",
    "            presence_penalty=0,\n",
    "            stop=None,\n",
    "        )\n",
    "    response = llm.invoke(prompt)\n",
    "    return response.content"
   ]
  },
  {
   "cell_type": "code",
   "execution_count": null,
   "id": "56314c5c",
   "metadata": {},
   "outputs": [],
   "source": []
  }
 ],
 "metadata": {
  "language_info": {
   "name": "python"
  }
 },
 "nbformat": 4,
 "nbformat_minor": 5
}
